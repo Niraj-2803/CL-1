{
 "cells": [
  {
   "cell_type": "code",
   "execution_count": 1,
   "id": "eb374f93",
   "metadata": {},
   "outputs": [
    {
     "name": "stderr",
     "output_type": "stream",
     "text": [
      "C:\\Users\\niraj_1kwckht\\anaconda\\lib\\site-packages\\pandas\\core\\computation\\expressions.py:21: UserWarning: Pandas requires version '2.8.4' or newer of 'numexpr' (version '2.8.1' currently installed).\n",
      "  from pandas.core.computation.check import NUMEXPR_INSTALLED\n",
      "C:\\Users\\niraj_1kwckht\\anaconda\\lib\\site-packages\\pandas\\core\\arrays\\masked.py:60: UserWarning: Pandas requires version '1.3.6' or newer of 'bottleneck' (version '1.3.4' currently installed).\n",
      "  from pandas.core import (\n"
     ]
    },
    {
     "data": {
      "text/html": [
       "<div>\n",
       "<style scoped>\n",
       "    .dataframe tbody tr th:only-of-type {\n",
       "        vertical-align: middle;\n",
       "    }\n",
       "\n",
       "    .dataframe tbody tr th {\n",
       "        vertical-align: top;\n",
       "    }\n",
       "\n",
       "    .dataframe thead th {\n",
       "        text-align: right;\n",
       "    }\n",
       "</style>\n",
       "<table border=\"1\" class=\"dataframe\">\n",
       "  <thead>\n",
       "    <tr style=\"text-align: right;\">\n",
       "      <th></th>\n",
       "      <th>Transaction_ID</th>\n",
       "      <th>Customer_ID</th>\n",
       "      <th>State</th>\n",
       "      <th>Age</th>\n",
       "      <th>Shop_Category</th>\n",
       "      <th>Sales</th>\n",
       "      <th>Gender</th>\n",
       "      <th>Items_in_basket</th>\n",
       "    </tr>\n",
       "  </thead>\n",
       "  <tbody>\n",
       "    <tr>\n",
       "      <th>0</th>\n",
       "      <td>1</td>\n",
       "      <td>1234</td>\n",
       "      <td>MP</td>\n",
       "      <td>10</td>\n",
       "      <td>Grocery</td>\n",
       "      <td>10</td>\n",
       "      <td>M</td>\n",
       "      <td>2</td>\n",
       "    </tr>\n",
       "    <tr>\n",
       "      <th>1</th>\n",
       "      <td>2</td>\n",
       "      <td>1235</td>\n",
       "      <td>UP</td>\n",
       "      <td>21</td>\n",
       "      <td>Dairy</td>\n",
       "      <td>30</td>\n",
       "      <td>F</td>\n",
       "      <td>3</td>\n",
       "    </tr>\n",
       "    <tr>\n",
       "      <th>2</th>\n",
       "      <td>3</td>\n",
       "      <td>1236</td>\n",
       "      <td>AP</td>\n",
       "      <td>23</td>\n",
       "      <td>Deli</td>\n",
       "      <td>23</td>\n",
       "      <td>F</td>\n",
       "      <td>4</td>\n",
       "    </tr>\n",
       "    <tr>\n",
       "      <th>3</th>\n",
       "      <td>4</td>\n",
       "      <td>1237</td>\n",
       "      <td>RP</td>\n",
       "      <td>25</td>\n",
       "      <td>Meat</td>\n",
       "      <td>21</td>\n",
       "      <td>F</td>\n",
       "      <td>4</td>\n",
       "    </tr>\n",
       "    <tr>\n",
       "      <th>4</th>\n",
       "      <td>5</td>\n",
       "      <td>1238</td>\n",
       "      <td>DP</td>\n",
       "      <td>27</td>\n",
       "      <td>Clothes</td>\n",
       "      <td>90</td>\n",
       "      <td>F</td>\n",
       "      <td>3</td>\n",
       "    </tr>\n",
       "  </tbody>\n",
       "</table>\n",
       "</div>"
      ],
      "text/plain": [
       "   Transaction_ID  Customer_ID State  Age Shop_Category  Sales Gender  \\\n",
       "0               1         1234    MP   10       Grocery     10      M   \n",
       "1               2         1235    UP   21         Dairy     30      F   \n",
       "2               3         1236    AP   23          Deli     23      F   \n",
       "3               4         1237    RP   25          Meat     21      F   \n",
       "4               5         1238    DP   27       Clothes     90      F   \n",
       "\n",
       "   Items_in_basket  \n",
       "0                2  \n",
       "1                3  \n",
       "2                4  \n",
       "3                4  \n",
       "4                3  "
      ]
     },
     "execution_count": 1,
     "metadata": {},
     "output_type": "execute_result"
    }
   ],
   "source": [
    "import pandas as pd\n",
    "import matplotlib.pyplot as plt\n",
    "import seaborn as sns\n",
    "\n",
    "# 1) Load the dataset\n",
    "df = pd.read_csv(\"Retail_Sales_Data.csv\")\n",
    "\n",
    "# Display the first few rows to inspect the data\n",
    "df.head()"
   ]
  },
  {
   "cell_type": "code",
   "execution_count": 3,
   "id": "f2366f7f",
   "metadata": {},
   "outputs": [
    {
     "name": "stdout",
     "output_type": "stream",
     "text": [
      "<class 'pandas.core.frame.DataFrame'>\n",
      "RangeIndex: 312 entries, 0 to 311\n",
      "Data columns (total 8 columns):\n",
      " #   Column           Non-Null Count  Dtype \n",
      "---  ------           --------------  ----- \n",
      " 0   Transaction_ID   312 non-null    int64 \n",
      " 1   Customer_ID      312 non-null    int64 \n",
      " 2   State            312 non-null    object\n",
      " 3   Age              312 non-null    int64 \n",
      " 4   Shop_Category    312 non-null    object\n",
      " 5   Sales            312 non-null    int64 \n",
      " 6   Gender           312 non-null    object\n",
      " 7   Items_in_basket  312 non-null    int64 \n",
      "dtypes: int64(5), object(3)\n",
      "memory usage: 19.6+ KB\n",
      "Missing values:\n",
      " Transaction_ID     0\n",
      "Customer_ID        0\n",
      "State              0\n",
      "Age                0\n",
      "Shop_Category      0\n",
      "Sales              0\n",
      "Gender             0\n",
      "Items_in_basket    0\n",
      "dtype: int64\n"
     ]
    }
   ],
   "source": [
    "# 2) Explore the dataset and Check basic info and structure of the dataset\n",
    "df.info()\n",
    "\n",
    "# Check for any missing values\n",
    "print(\"Missing values:\\n\", df.isnull().sum())"
   ]
  },
  {
   "cell_type": "code",
   "execution_count": 5,
   "id": "66832f12",
   "metadata": {},
   "outputs": [
    {
     "name": "stdout",
     "output_type": "stream",
     "text": [
      "Total sales by region:\n",
      "   State  Sales\n",
      "1    DP  23346\n",
      "0    AP  12176\n",
      "4    RP  11049\n",
      "2    KP  10887\n",
      "3    MP   4916\n",
      "5    UP   4072\n"
     ]
    }
   ],
   "source": [
    "# 3) Hi step phkt identify \n",
    "# 4) Group by 'State' and sum the 'Sales' column to get total sales per region\n",
    "sales_by_region = df.groupby('State')['Sales'].sum().reset_index()\n",
    "\n",
    "# Sort to identify top-performing regions\n",
    "sales_by_region = sales_by_region.sort_values(by='Sales', ascending=False)\n",
    "print(\"Total sales by region:\\n\", sales_by_region)"
   ]
  },
  {
   "cell_type": "code",
   "execution_count": 6,
   "id": "56e57bef",
   "metadata": {},
   "outputs": [
    {
     "data": {
      "image/png": "[encoded data removed]",
      "text/plain": [
       "<Figure size 720x432 with 1 Axes>"
      ]
     },
     "metadata": {
      "needs_background": "light"
     },
     "output_type": "display_data"
    }
   ],
   "source": [
    "# 5) Bar plot for sales by region\n",
    "plt.figure(figsize=(10, 6))\n",
    "sns.barplot(x='State', y='Sales', data=sales_by_region, palette='viridis')\n",
    "plt.xlabel('Region')\n",
    "plt.ylabel('Total Sales')\n",
    "plt.title('Sales Distribution by Region')\n",
    "plt.show()"
   ]
  },
  {
   "cell_type": "code",
   "execution_count": 7,
   "id": "6beb7814",
   "metadata": {},
   "outputs": [
    {
     "data": {
      "image/png": "[encoded data removed]",
      "text/plain": [
       "<Figure size 576x576 with 1 Axes>"
      ]
     },
     "metadata": {},
     "output_type": "display_data"
    }
   ],
   "source": [
    "# 5) Pie chart for sales distribution by region - or option ahe\n",
    "plt.figure(figsize=(8, 8))\n",
    "plt.pie(sales_by_region['Sales'], labels=sales_by_region['State'], autopct='%1.1f%%', startangle=140)\n",
    "plt.title('Sales Distribution by Region')\n",
    "plt.show()"
   ]
  },
  {
   "cell_type": "code",
   "execution_count": 8,
   "id": "5bbe70b9",
   "metadata": {},
   "outputs": [
    {
     "name": "stdout",
     "output_type": "stream",
     "text": [
      "Top-performing regions:\n",
      "   State  Sales\n",
      "1    DP  23346\n",
      "0    AP  12176\n",
      "4    RP  11049\n",
      "2    KP  10887\n",
      "3    MP   4916\n"
     ]
    }
   ],
   "source": [
    "# 6) Identify the top 5 regions based on sales amount\n",
    "top_regions = sales_by_region.head(5)\n",
    "print(\"Top-performing regions:\\n\", top_regions)"
   ]
  },
  {
   "cell_type": "code",
   "execution_count": 9,
   "id": "6b2194de",
   "metadata": {},
   "outputs": [
    {
     "name": "stdout",
     "output_type": "stream",
     "text": [
      "Sales by Region and Product Category:\n",
      " Shop_Category  Clothes   Dairy    Deli  Electronics  Grocery    Meat\n",
      "State                                                               \n",
      "AP              2127.0  1197.0  1303.0       3818.0    823.0  2908.0\n",
      "DP              7133.0  6027.0  1723.0       4645.0   1736.0  2082.0\n",
      "KP              3581.0   630.0  2595.0       2742.0     54.0  1285.0\n",
      "MP               711.0     0.0  1144.0        696.0    950.0  1415.0\n",
      "RP              2167.0    74.0  1006.0       3087.0   2452.0  2263.0\n",
      "UP              1077.0   816.0    87.0        500.0    729.0   863.0\n"
     ]
    }
   ],
   "source": [
    "# 7) Group by 'State' and 'Shop_Category' and sum 'Sales' for each combination\n",
    "sales_by_region_category = df.groupby(['State', 'Shop_Category'])['Sales'].sum().unstack().fillna(0)\n",
    "\n",
    "# Display the result\n",
    "print(\"Sales by Region and Product Category:\\n\", sales_by_region_category)"
   ]
  },
  {
   "cell_type": "code",
   "execution_count": 10,
   "id": "f212f38f",
   "metadata": {},
   "outputs": [
    {
     "data": {
      "image/png": "[encoded data removed]",
      "text/plain": [
       "<Figure size 864x576 with 1 Axes>"
      ]
     },
     "metadata": {
      "needs_background": "light"
     },
     "output_type": "display_data"
    }
   ],
   "source": [
    "# 8) Stacked bar plot for sales by region and product category\n",
    "sales_by_region_category.plot(kind='bar', stacked=True, figsize=(12, 8), colormap='Spectral')\n",
    "plt.xlabel('Region')\n",
    "plt.ylabel('Total Sales')\n",
    "plt.title('Sales by Region and Product Category')\n",
    "plt.legend(title='Product Category')\n",
    "plt.show()"
   ]
  },
  {
   "cell_type": "code",
   "execution_count": null,
   "id": "bd8dffba",
   "metadata": {},
   "outputs": [],
   "source": []
  }
 ],
 "metadata": {
  "kernelspec": {
   "display_name": "Python 3 (ipykernel)",
   "language": "python",
   "name": "python3"
  },
  "language_info": {
   "codemirror_mode": {
    "name": "ipython",
    "version": 3
   },
   "file_extension": ".py",
   "mimetype": "text/x-python",
   "name": "python",
   "nbconvert_exporter": "python",
   "pygments_lexer": "ipython3",
   "version": "3.9.12"
  }
 },
 "nbformat": 4,
 "nbformat_minor": 5
}
