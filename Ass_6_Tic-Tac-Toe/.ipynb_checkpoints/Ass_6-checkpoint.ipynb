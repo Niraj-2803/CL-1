{
 "cells": [
  {
   "cell_type": "code",
   "execution_count": 1,
   "id": "824b2639",
   "metadata": {},
   "outputs": [],
   "source": [
    "# Set up the game board as a list\n",
    "board = [\"-\", \"-\", \"-\",\n",
    "\t\t\"-\", \"-\", \"-\",\n",
    "\t\t\"-\", \"-\", \"-\"]\n",
    "\n",
    "# Define a function to print the game board\n",
    "def print_board():\n",
    "\tprint(board[0] + \" | \" + board[1] + \" | \" + board[2])\n",
    "\tprint(board[3] + \" | \" + board[4] + \" | \" + board[5])\n",
    "\tprint(board[6] + \" | \" + board[7] + \" | \" + board[8])"
   ]
  },
  {
   "cell_type": "code",
   "execution_count": 2,
   "id": "07ebbbb4",
   "metadata": {},
   "outputs": [],
   "source": [
    "# Define a function to handle a player's turn\n",
    "def take_turn(player):\n",
    "\tprint(player + \"'s turn.\")\n",
    "\tposition = input(\"Choose a position from 1-9: \")\n",
    "\twhile position not in [\"1\", \"2\", \"3\", \"4\", \"5\", \"6\", \"7\", \"8\", \"9\"]:\n",
    "\t\tposition = input(\"Invalid input. Choose a position from 1-9: \")\n",
    "\tposition = int(position) - 1\n",
    "\twhile board[position] != \"-\":\n",
    "\t\tposition = int(input(\"Position already taken. Choose a different position: \")) - 1\n",
    "\tboard[position] = player\n",
    "\tprint_board()"
   ]
  },
  {
   "cell_type": "code",
   "execution_count": 3,
   "id": "5f229d91",
   "metadata": {},
   "outputs": [],
   "source": [
    "# Define a function to check if the game is over\n",
    "def check_game_over():\n",
    "\t# Check for a win\n",
    "\tif (board[0] == board[1] == board[2] != \"-\") or \\\n",
    "\t(board[3] == board[4] == board[5] != \"-\") or \\\n",
    "\t(board[6] == board[7] == board[8] != \"-\") or \\\n",
    "\t(board[0] == board[3] == board[6] != \"-\") or \\\n",
    "\t(board[1] == board[4] == board[7] != \"-\") or \\\n",
    "\t(board[2] == board[5] == board[8] != \"-\") or \\\n",
    "\t(board[0] == board[4] == board[8] != \"-\") or \\\n",
    "\t(board[2] == board[4] == board[6] != \"-\"):\n",
    "\t\treturn \"win\"\n",
    "\t# Check for a tie\n",
    "\telif \"-\" not in board:\n",
    "\t\treturn \"tie\"\n",
    "\t# Game is not over\n",
    "\telse:\n",
    "\t\treturn \"play\""
   ]
  },
  {
   "cell_type": "code",
   "execution_count": 4,
   "id": "f32bcba2",
   "metadata": {},
   "outputs": [],
   "source": [
    "# Define the main game loop\n",
    "def play_game():\n",
    "\tprint_board()\n",
    "\tcurrent_player = \"X\"\n",
    "\tgame_over = False\n",
    "\twhile not game_over:\n",
    "\t\ttake_turn(current_player)\n",
    "\t\tgame_result = check_game_over()\n",
    "\t\tif game_result == \"win\":\n",
    "\t\t\tprint(current_player + \" wins!\")\n",
    "\t\t\tgame_over = True\n",
    "\t\telif game_result == \"tie\":\n",
    "\t\t\tprint(\"It's a tie!\")\n",
    "\t\t\tgame_over = True\n",
    "\t\telse:\n",
    "\t\t\t# Switch to the other player\n",
    "\t\t\tcurrent_player = \"O\" if current_player == \"X\" else \"X\""
   ]
  },
  {
   "cell_type": "code",
   "execution_count": 5,
   "id": "a0fb5360",
   "metadata": {},
   "outputs": [
    {
     "name": "stdout",
     "output_type": "stream",
     "text": [
      "- | - | -\n",
      "- | - | -\n",
      "- | - | -\n",
      "X's turn.\n",
      "Choose a position from 1-9: 1\n",
      "X | - | -\n",
      "- | - | -\n",
      "- | - | -\n",
      "O's turn.\n",
      "Choose a position from 1-9: 2\n",
      "X | O | -\n",
      "- | - | -\n",
      "- | - | -\n",
      "X's turn.\n",
      "Choose a position from 1-9: 3\n",
      "X | O | X\n",
      "- | - | -\n",
      "- | - | -\n",
      "O's turn.\n",
      "Choose a position from 1-9: 5\n",
      "X | O | X\n",
      "- | O | -\n",
      "- | - | -\n",
      "X's turn.\n",
      "Choose a position from 1-9: 6\n",
      "X | O | X\n",
      "- | O | X\n",
      "- | - | -\n",
      "O's turn.\n",
      "Choose a position from 1-9: 8\n",
      "X | O | X\n",
      "- | O | X\n",
      "- | O | -\n",
      "O wins!\n"
     ]
    }
   ],
   "source": [
    "# Start the game\n",
    "play_game()"
   ]
  },
  {
   "cell_type": "code",
   "execution_count": null,
   "id": "3f8b53bd",
   "metadata": {},
   "outputs": [],
   "source": []
  }
 ],
 "metadata": {
  "kernelspec": {
   "display_name": "Python 3 (ipykernel)",
   "language": "python",
   "name": "python3"
  },
  "language_info": {
   "codemirror_mode": {
    "name": "ipython",
    "version": 3
   },
   "file_extension": ".py",
   "mimetype": "text/x-python",
   "name": "python",
   "nbconvert_exporter": "python",
   "pygments_lexer": "ipython3",
   "version": "3.9.12"
  }
 },
 "nbformat": 4,
 "nbformat_minor": 5
}
